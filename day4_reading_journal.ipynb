{
 "cells": [
  {
   "cell_type": "markdown",
   "metadata": {},
   "source": [
    "# Day 4 Reading Journal\n",
    "\n",
    "This journal includes several required exercises, but it is meant to encourage active reading more generally.  You should use the journal to take detailed notes, catalog questions, and explore the content from Think Python deeply.\n",
    "\n",
    "Reading: Think Python Chapter 10\n",
    "\n",
    "**Due: Monday, January 30 at 12 noon**\n",
    "\n"
   ]
  },
  {
   "cell_type": "markdown",
   "metadata": {},
   "source": [
    "## [Chapter 10](http://www.greenteapress.com/thinkpython2/html/thinkpython2011.html)\n",
    "\n",
    "You may want to review [state diagrams in Chapter 2](http://www.greenteapress.com/thinkpython22/html/thinkpython003.html#toc13). [Python Tutor](http://pythontutor.com/) is also helpful for visualizing the state of your program.\n",
    "\n"
   ]
  },
  {
   "cell_type": "markdown",
   "metadata": {},
   "source": [
    "### Exercise 10.3 \n",
    "Write a function called `middle` that takes a list and returns a new list that contains all but the first and last elements. So `middle([1,2,3,4])` should return `[2,3]`."
   ]
  },
  {
   "cell_type": "code",
   "execution_count": 3,
   "metadata": {
    "collapsed": false
   },
   "outputs": [
    {
     "name": "stdout",
     "output_type": "stream",
     "text": [
      "[2, 3, 4]\n"
     ]
    }
   ],
   "source": [
    "def middle(list):\n",
    "    end = len(list)-1\n",
    "    new_list = list[1:end]\n",
    "    print(new_list)\n",
    "    \n",
    "    \n",
    "middle([1,2,3,4,5])"
   ]
  },
  {
   "cell_type": "markdown",
   "metadata": {},
   "source": [
    "### Exercise 10.4 \n",
    "Write a function called `chop` that takes a list, modifies it by removing the first and last elements, and returns `None`.\n",
    "\n",
    "What is the difference between `middle` and `chop`? Sketch out the program state or take a look at each in Python Tutor and answer the question in the Markdown cell below."
   ]
  },
  {
   "cell_type": "code",
   "execution_count": null,
   "metadata": {
    "collapsed": false
   },
   "outputs": [],
   "source": [
    "def chop(list):\n",
    "    end = len(list)-1\n",
    "    list = list[1:end]\n",
    "    print(list)\n",
    "    return None\n",
    "\n",
    "\n",
    "chop([1,2,3,4,5])"
   ]
  },
  {
   "cell_type": "markdown",
   "metadata": {},
   "source": [
    "The difference between the two is that middle makes a new list and chop changes the old list."
   ]
  },
  {
   "cell_type": "markdown",
   "metadata": {},
   "source": [
    "### Exercise 10.6 \n",
    "Two words are anagrams if you can rearrange the letters from one to spell the other. Write a function called `is_anagram` that takes two strings and returns `True` if they are anagrams."
   ]
  },
  {
   "cell_type": "code",
   "execution_count": null,
   "metadata": {
    "collapsed": false
   },
   "outputs": [],
   "source": [
    "def is_anagram(string1, string2):\n",
    "    if len(string1) != len(string2):\n",
    "        return False\n",
    "    else:\n",
    "        list1 = []\n",
    "        list2 = []\n",
    "        string1 = string1.lower()\n",
    "        string2 = string2.lower()\n",
    "        for letter in string1:\n",
    "            list1 = list1 + [letter]\n",
    "        for letter in string2:\n",
    "            list2 = list2 + [letter]\n",
    "        list1.sort()\n",
    "        list2.sort()\n",
    "        \n",
    "        if list1 == list2:\n",
    "            return True\n",
    "        else:\n",
    "            return False\n",
    "        \n",
    "  \n",
    "\n",
    "is_anagram('I Am Lord Voldemort', 'Tom Marvolo Riddle ')"
   ]
  },
  {
   "cell_type": "markdown",
   "metadata": {},
   "source": [
    "### Exercise 10.8  \n",
    "The (so-called) Birthday Paradox: <br /><br />\n",
    "1\\. Write a function called `has_duplicates` that takes a list and returns `True` if there is any element that appears more than once. It should not modify the original list.\n",
    "\n",
    "2\\. If there are 23 students in your class, what are the chances that two of you have the same birthday? Put your answer in the Markdown cell below. You can estimate this probability by generating random samples of 23 birthdays and checking for matches. Hint: you can generate random birthdays with the randint function from the [random module](https://docs.python.org/2/library/random.html).\n",
    "\n",
    "You can read about this problem at http://en.wikipedia.org/wiki/Birthday_paradox, and you can download Allen's solution from http://greenteapress.com/thinkpython2/code/birthday.py."
   ]
  },
  {
   "cell_type": "code",
   "execution_count": null,
   "metadata": {
    "collapsed": true
   },
   "outputs": [],
   "source": [
    "def has_duplicates(t):\n",
    "    s = len(t)\n",
    "    index1 = 0\n",
    "    for a in t:\n",
    "        index2 = 1 + index1\n",
    "        while index2 < s:\n",
    "            if a == t[index2]:\n",
    "                return True\n",
    "            else: \n",
    "                index2 = index2 + 1\n",
    "        index1 = index1 + 1\n",
    "    return False\n",
    "        \n",
    "\n",
    "#has_duplicates(['apple','horses','horses','orange'])"
   ]
  },
  {
   "cell_type": "code",
   "execution_count": null,
   "metadata": {
    "collapsed": true
   },
   "outputs": [],
   "source": []
  },
  {
   "cell_type": "code",
   "execution_count": 96,
   "metadata": {
    "collapsed": false
   },
   "outputs": [
    {
     "name": "stdout",
     "output_type": "stream",
     "text": [
      "0.49\n"
     ]
    }
   ],
   "source": [
    "import random\n",
    "\n",
    "def random_birthday():\n",
    "    month = random.randint(1,12)\n",
    "    if month == 1:\n",
    "        day = random.randint(1,31)\n",
    "        return month,day\n",
    "    elif month == 3:\n",
    "        day = random.randint(1,31)\n",
    "        return month,day\n",
    "    elif month == 5:\n",
    "        day = random.randint(1,31)\n",
    "        return month,day\n",
    "    elif month == 7:\n",
    "        day = random.randint(1,31)\n",
    "        return month,day\n",
    "    elif month == 8:\n",
    "        day = random.randint(1,31)\n",
    "        return month,day\n",
    "    elif month == 10:\n",
    "        day = random.randint(1,31)\n",
    "        return month,day\n",
    "    elif month == 12:\n",
    "        day = random.randint(1,31)\n",
    "        return month,day\n",
    "    elif month == 2:\n",
    "        day = random.randint(1,29)\n",
    "        return month,day\n",
    "    else:\n",
    "        day = random.randint(1,30)\n",
    "        return month,day\n",
    "\n",
    "def birthday_list_gen():\n",
    "    birthday_list = []\n",
    "    for i in range(0,22):\n",
    "        birthday_list = birthday_list + [random_birthday()]\n",
    "    #print(birthday_list)\n",
    "    return birthday_list\n",
    "\n",
    "percentage = 0\n",
    "for i in range(0,100):\n",
    "    if has_duplicates(birthday_list_gen()) == True:\n",
    "        percentage = percentage + 1\n",
    "total_percent_chance = percentage/100\n",
    "print(total_percent_chance)"
   ]
  },
  {
   "cell_type": "markdown",
   "metadata": {},
   "source": [
    "After running the random birthday list generator 100 times, the average percent with a shared birthday in the list of 23 is about 50%."
   ]
  },
  {
   "cell_type": "markdown",
   "metadata": {},
   "source": [
    "### Challenge: Exercise 10.10 (optional)\n",
    "\n",
    "You should read [Chapter 9.1](http://www.greenteapress.com/thinkpython2/html/thinkpython2010.html) and do Exercise 1 first.\n",
    "\n",
    "To check whether a word is in the word list, you could use the `in` operator, but it would be relatively slow because it searches through the words in order (try it).\n",
    "\n",
    "Because the words are in alphabetical order, we can speed things up with a bisection search (also known as binary search), which is similar to what you do when you look a word up in the dictionary. You start in the middle and check to see whether the word you are looking for comes before the word in the middle of the list. If so, then you search the first half of the list the same way. Otherwise you search the second half.\n",
    "\n",
    "Either way, you cut the remaining search space in half. If the word list has 113,809 words, it will take about 17 steps to find the word or conclude that it’s not there.\n",
    "\n",
    "Write a function called `bisect` that takes a sorted list and a target value and returns the index of the value in the list, if it’s there, or `None` if it’s not.\n",
    "\n",
    "Or you could read the documentation of the `bisect` module and use that! Solution: http://greenteapress.com/thinkpython2/code/inlist.py."
   ]
  },
  {
   "cell_type": "code",
   "execution_count": null,
   "metadata": {
    "collapsed": true
   },
   "outputs": [],
   "source": []
  },
  {
   "cell_type": "code",
   "execution_count": null,
   "metadata": {
    "collapsed": true
   },
   "outputs": [],
   "source": []
  },
  {
   "cell_type": "markdown",
   "metadata": {},
   "source": [
    "## Reading Journal feedback\n",
    "\n",
    "Have any comments on this Reading Journal? Feel free to leave them [here](https://goo.gl/forms/hZqCUAi4ir7hVN6x2) and we'll read them when you submit your journal entry. This could include suggestions to improve the exercises, topics you'd like to see covered in class next time, or other feedback.\n",
    "\n",
    "If you have Python questions or run into problems while completing the reading, you should post them to Piazza instead so you can get a quick response before your journal is submitted."
   ]
  }
 ],
 "metadata": {
  "anaconda-cloud": {},
  "kernelspec": {
   "display_name": "Python [default]",
   "language": "python",
   "name": "python3"
  },
  "language_info": {
   "codemirror_mode": {
    "name": "ipython",
    "version": 3
   },
   "file_extension": ".py",
   "mimetype": "text/x-python",
   "name": "python",
   "nbconvert_exporter": "python",
   "pygments_lexer": "ipython3",
   "version": "3.5.2"
  }
 },
 "nbformat": 4,
 "nbformat_minor": 0
}
