{
 "cells": [
  {
   "cell_type": "markdown",
   "metadata": {},
   "source": [
    "# Day 10 Reading Journal\n",
    "\n",
    "This journal includes several required exercises, but it is meant to encourage active reading more generally.  You should use the journal to take detailed notes, catalog questions, and explore the content from Think Python deeply.\n",
    "\n",
    "Reading: Review Think Python Chapters 15-17\n",
    "\n",
    "**Due: Thursday, February 23 at 12 noon**\n",
    "\n"
   ]
  },
  {
   "cell_type": "markdown",
   "metadata": {},
   "source": [
    "## [Chapter 15](http://www.greenteapress.com/thinkpython2/html/thinkpython2016.html), [Chapter 16](http://www.greenteapress.com/thinkpython2/html/thinkpython2017.html), [Chapter 17](http://www.greenteapress.com/thinkpython2/html/thinkpython2018.html)\n",
    "\n",
    "\n",
    "By the end of chapter 17, we have all the tools we need to create our own user-defined types known as classes. In this reading journal, we're asking you to review and solidify your understanding of this material so we can build on it for the rest of the course. \n",
    "\n",
    "If you didn't get a chance to fully complete the Day 9 reading journal, you may want to do so now."
   ]
  },
  {
   "cell_type": "markdown",
   "metadata": {
    "problem": "Terminology"
   },
   "source": [
    "### Terminology\n",
    "\n",
    "You should be familiar with the following list of terms and concepts. If any of them are unclear to you, re-read, ask, write a definition in your own words, and try an example if appropriate.\n",
    "\n",
    " - class\n",
    " - object\n",
    " - instance\n",
    " - attribute\n",
    " - method\n",
    " - shallow vs deep copying\n",
    " - pure functions vs modifiers\n",
    " - initializing object instances\n",
    " "
   ]
  },
  {
   "cell_type": "markdown",
   "metadata": {
    "is_question": true,
    "problem": "Exercise 1"
   },
   "source": [
    "### Exercise\n",
    "\n",
    "We're going to take the first steps toward writing a calendar application. To keep things simple, we'll restrict ourselves to a single day for now. Write an `Event` class with the following attributes:\n",
    "\n",
    " - `name`  : Title for the `Event`\n",
    " - `start` : `Time` object representing the start time for the `Event`\n",
    " - `end`   : `Time` object representing the end time for the `Event`\n",
    "\n",
    "You can also augment your `Event` class with additional attributes, such as location and attendees.\n",
    "\n",
    "Write `__init__` and `__str__` methods for your `Event` class."
   ]
  },
  {
   "cell_type": "code",
   "execution_count": 4,
   "metadata": {
    "collapsed": false,
    "solution": "Exercise 1"
   },
   "outputs": [
    {
     "name": "stdout",
     "output_type": "stream",
     "text": [
      "SoftDes starts at 1:30:0 and ends at 3:10:0.\n",
      "100.0\n"
     ]
    }
   ],
   "source": [
    "class Time:\n",
    "    \n",
    "    def __init__(self, hours, minutes, seconds):\n",
    "        self.hours = hours\n",
    "        self.minutes = minutes\n",
    "        self.seconds = seconds\n",
    "        \n",
    "    def __str__(self):\n",
    "        return \"%d:%d:%d\"%(self.hours,self.minutes,self.seconds)\n",
    "    \n",
    "    def is_after(t1,t2):\n",
    "        time_sec1 = ((t1.hours)*60*60)+((t1.minutes)*60)+t1.seconds\n",
    "        time_sec2 = ((t2.hours)*60*60)+((t2.minutes)*60)+t2.seconds\n",
    "        if time_sec2 >= time_sec1:\n",
    "            return True\n",
    "        else:\n",
    "            return False\n",
    "        \n",
    "    def timeBetween(t1,t2):\n",
    "        time_sec1 = ((t1.hours)*60*60)+((t1.minutes)*60)+t1.seconds\n",
    "        time_sec2 = ((t2.hours)*60*60)+((t2.minutes)*60)+t2.seconds\n",
    "        seconds = time_sec2 - time_sec1\n",
    "        minutes = seconds/60\n",
    "        return minutes\n",
    "\n",
    "    \n",
    "class Event:\n",
    "    \n",
    "    def __init__(self, name, start, end):\n",
    "        self.name = name\n",
    "        self.start = start\n",
    "        self.end = end\n",
    "    \n",
    "    def __str__(self):\n",
    "        return \"%s starts at %s and ends at %s.\"%(self.name,self.start, self.end)\n",
    "\n",
    "\n",
    "start = Time(1,30,0)\n",
    "end = Time(3,10,0)\n",
    "softdes = Event('SoftDes', start, end)\n",
    "print(softdes)\n",
    "length = Time.timeBetween(start,end)\n",
    "print(length)"
   ]
  },
  {
   "cell_type": "markdown",
   "metadata": {
    "is_question": true,
    "problem": "Exercise 2"
   },
   "source": [
    "### Exercise\n",
    "\n",
    "Write a `duration` method that returns the duration of the `Event` in minutes."
   ]
  },
  {
   "cell_type": "code",
   "execution_count": 13,
   "metadata": {
    "collapsed": false,
    "solution": "Exercise 2"
   },
   "outputs": [
    {
     "name": "stdout",
     "output_type": "stream",
     "text": [
      "210.0\n",
      "100.0\n",
      "True\n",
      "SoftDes starts at 13:30:0 and ends at 15:10:0.\n"
     ]
    }
   ],
   "source": [
    "class Event:\n",
    "    \n",
    "    def __init__(self, name, start, end):\n",
    "        self.name = name\n",
    "        self.start = start\n",
    "        self.end = end\n",
    "    \n",
    "    def __str__(self):\n",
    "        return \"%s starts at %s and ends at %s.\"%(self.name,self.start, self.end)\n",
    "    \n",
    "def duration(self):\n",
    "    startTime = self.start\n",
    "    endTime = self.end\n",
    "    return Time.timeBetween(startTime,endTime)\n",
    "        \n",
    "\n",
    "start = Time(13,30,0)\n",
    "end = Time(15,10,0)\n",
    "softdes = Event('SoftDes', start, end)\n",
    "start1 = Time(9,0,0)\n",
    "end1 = Time(12,30,0)\n",
    "QEA = Event('QEA',start1,end1)\n",
    "print(duration(QEA))\n",
    "print(duration(softdes))\n",
    "print(Time.is_after(start1,start))"
   ]
  },
  {
   "cell_type": "markdown",
   "metadata": {
    "is_question": true,
    "problem": "Exercise 3"
   },
   "source": [
    "### Exercise\n",
    "\n",
    "Write an `Agenda` class that contains several `Event`s for the day.\n",
    "\n",
    "**Quick check: ** How should you store `Event`s within your `Agenda` class?\n"
   ]
  },
  {
   "cell_type": "markdown",
   "metadata": {},
   "source": [
    "I am going to store the events as items in a sorted list."
   ]
  },
  {
   "cell_type": "markdown",
   "metadata": {},
   "source": [
    " "
   ]
  },
  {
   "cell_type": "markdown",
   "metadata": {},
   "source": [
    "Your `Agenda` class should include a `print_agenda` method that prints out your schedule for the day, in order.\n",
    "\n",
    "**Optional:** Include a `is_feasible` method that returns `True` if your schedule has no time conflicts. You may want to write additional helper methods for the `Event` class to make this easier."
   ]
  },
  {
   "cell_type": "code",
   "execution_count": 31,
   "metadata": {
    "collapsed": false,
    "solution": "Exercise 3"
   },
   "outputs": [
    {
     "name": "stdout",
     "output_type": "stream",
     "text": [
      "QEA starts at 9:0:0 and ends at 12:30:0.\n",
      "0\n",
      "at the end\n",
      "[<__main__.Event object at 0x7ff7e41de630>, <__main__.Event object at 0x7ff7e41de588>]\n",
      "keep looking\n",
      "it goes here\n",
      "[<__main__.Event object at 0x7ff7e41de630>, <__main__.Event object at 0x7ff7e41de588>]\n",
      "QEA starts at 9:0:0 and ends at 12:30:0.\n",
      "SoftDes starts at 13:30:0 and ends at 15:10:0.\n",
      "Meeting starts at 17:0:0 and ends at 17:30:0.\n"
     ]
    },
    {
     "data": {
      "text/plain": [
       "True"
      ]
     },
     "execution_count": 31,
     "metadata": {},
     "output_type": "execute_result"
    }
   ],
   "source": [
    "class Agenda:\n",
    "    \n",
    "    def __init__(self, eventslist=[]):\n",
    "        self.eventslist = eventslist\n",
    "        \n",
    "    def print_agenda(self):\n",
    "        for item in self.eventslist:\n",
    "            print(item)\n",
    "        \n",
    "    def addEvent(self,newEvent):\n",
    "        if self.eventslist == []:\n",
    "            self.eventslist.append(newEvent)\n",
    "            print(self.eventslist[0])\n",
    "        else:\n",
    "            for index,value in enumerate(self.eventslist):\n",
    "                if Time.is_after(value.start,newEvent.start) == False:\n",
    "                    print('it goes here')\n",
    "                    print(self.eventslist)\n",
    "                    self.eventslist.insert(index, newEvent)\n",
    "                    break\n",
    "                elif index == len(self.eventslist)-1:\n",
    "                    print(index)\n",
    "                    print('at the end')\n",
    "                    self.eventslist.append(newEvent)\n",
    "                    print(self.eventslist)\n",
    "                    break\n",
    "                else:\n",
    "                    print('keep looking')\n",
    "                    \n",
    "    def is_feasible(self):\n",
    "        for index,value in enumerate(self.eventslist[1:]):\n",
    "            if Time.is_after(self.eventslist[index].end,value.start) == False:\n",
    "                return False\n",
    "        return True\n",
    "                \n",
    "\n",
    "myAgenda = Agenda()\n",
    "start = Time(13,30,0)\n",
    "end = Time(15,10,0)\n",
    "softdes = Event('SoftDes', start, end)\n",
    "start1 = Time(9,0,0)\n",
    "end1 = Time(12,30,0)\n",
    "QEA = Event('QEA',start1,end1)\n",
    "start2 = Time(17,0,0)\n",
    "end2 = Time(17,30,0)\n",
    "meeting = Event('Meeting',start2,end2)\n",
    "\n",
    "myAgenda.addEvent(QEA)\n",
    "myAgenda.addEvent(meeting)\n",
    "myAgenda.addEvent(softdes)\n",
    "myAgenda.print_agenda()\n",
    "myAgenda.is_feasible()\n",
    "\n",
    "                "
   ]
  },
  {
   "cell_type": "markdown",
   "metadata": {
    "is_question": true,
    "problem": "Exercise 4"
   },
   "source": [
    "### Going Beyond (optional)\n",
    "\n",
    "Some ideas for taking your application further:\n",
    " - Add people and/or places to the mix to create a scheduling assistant\n",
    " - Extend support for day-of-week or full date. A word of warning: dealing with dates and times in real applications is difficult due to the huge number of special cases (Perfect example: this reading journal is due on Leap Day). Consider using something like the Python [datetime](https://docs.python.org/3/library/datetime.html) module.\n",
    " - Use pickle or some other persistence strategy to save and load your `Agenda`."
   ]
  },
  {
   "cell_type": "code",
   "execution_count": null,
   "metadata": {
    "collapsed": true,
    "solution": "Exercise 4"
   },
   "outputs": [],
   "source": []
  },
  {
   "cell_type": "markdown",
   "metadata": {
    "poll_response": true,
    "solution": "Time spent"
   },
   "source": [
    " "
   ]
  },
  {
   "cell_type": "markdown",
   "metadata": {
    "is_question": true,
    "problem": "Feedback"
   },
   "source": [
    "## Reading Journal feedback\n",
    "\n",
    "[Please complete this short survey](https://docs.google.com/forms/d/e/1FAIpQLScQekhUrf6YYjpfQiAAbavLIA-IJklv_PX1BWbGgxj7JPolmw/viewform?c=0&w=1)\n",
    "\n",
    "If you have any comments on this Reading Journal, feel free to leave them in the survey linked above. This could include suggestions to improve the exercises, topics you'd like to see covered in class next time, or other feedback.\n",
    "\n",
    "If you have Python questions or run into problems while completing the reading, you should post them to Piazza instead so you can get a quick response before your journal is submitted."
   ]
  },
  {
   "cell_type": "markdown",
   "metadata": {
    "feedback_response": true,
    "solution": "Feedback"
   },
   "source": [
    " "
   ]
  }
 ],
 "metadata": {
  "anaconda-cloud": {},
  "kernelspec": {
   "display_name": "Python [default]",
   "language": "python",
   "name": "python3"
  },
  "language_info": {
   "codemirror_mode": {
    "name": "ipython",
    "version": 3
   },
   "file_extension": ".py",
   "mimetype": "text/x-python",
   "name": "python",
   "nbconvert_exporter": "python",
   "pygments_lexer": "ipython3",
   "version": "3.5.2"
  }
 },
 "nbformat": 4,
 "nbformat_minor": 0
}
